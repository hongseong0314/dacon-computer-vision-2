{
 "cells": [
  {
   "cell_type": "code",
   "execution_count": 1,
   "id": "2a67b66b",
   "metadata": {},
   "outputs": [],
   "source": [
    "import sys\n",
    "import os\n",
    "\n",
    "import pandas as pd\n",
    "import numpy as np\n",
    "import matplotlib.pyplot as plt\n",
    "import cv2\n",
    "from tqdm import tqdm\n",
    "import zipfile\n",
    "from PIL import Image\n",
    "from glob import glob\n",
    "\n",
    "import torch\n",
    "import torchvision.transforms as T\n",
    "from torch.utils.data import Dataset, DataLoader\n",
    "\n",
    "from dataloader import DatasetMNIST, tensor2img\n",
    "from model.efficientNet   import mnistEfficient\n",
    "from utills import evaluation\n",
    "from utills import get_clf_eval_multi, get_eval_threshold\n",
    "\n",
    "device = torch.device(\"cuda:0\" if torch.cuda.is_available() else \"cpu\")"
   ]
  },
  {
   "cell_type": "code",
   "execution_count": 2,
   "id": "1d15a71b",
   "metadata": {},
   "outputs": [],
   "source": [
    "dirty_mnist_answer = pd.read_csv(\"./dirty_mnist_2nd_answer.csv\")\n",
    "test_dataset = DatasetMNIST(\"dirty_mnist/train/\", dirty_mnist_answer, mode='test', sub_data=False)\n",
    "batch_size = 256\n",
    "test_data_loader = DataLoader(\n",
    "    test_dataset,\n",
    "    batch_size = batch_size,\n",
    "    shuffle = False,\n",
    "    num_workers = 8,\n",
    "    drop_last = False\n",
    ")"
   ]
  },
  {
   "cell_type": "code",
   "execution_count": 3,
   "id": "024a8bde",
   "metadata": {},
   "outputs": [
    {
     "name": "stdout",
     "output_type": "stream",
     "text": [
      "Loaded pretrained weights for efficientnet-b0\n"
     ]
    }
   ],
   "source": [
    "model_weight = glob(os.path.join(os.getcwd(), 'test/*.pth'))\n",
    "pred = evaluation(mnistEfficient, test_data_loader=test_data_loader, m=True, path=model_weight, device=device)\n",
    "label = dirty_mnist_answer.columns[1:].tolist()\n",
    "# 실제 y 가져오기\n",
    "y = dirty_mnist_answer.iloc[:, 1:].values"
   ]
  },
  {
   "cell_type": "code",
   "execution_count": 16,
   "id": "55ae32af",
   "metadata": {},
   "outputs": [
    {
     "name": "stdout",
     "output_type": "stream",
     "text": [
      "Confusion mat for label : a\n",
      "[[26864   179]\n",
      " [ 4155 18802]]\n",
      "Confusion mat for label : b\n",
      "[[26593   315]\n",
      " [ 3386 19706]]\n",
      "Confusion mat for label : c\n",
      "[[26547   292]\n",
      " [ 2411 20750]]\n",
      "Confusion mat for label : d\n",
      "[[26504   423]\n",
      " [ 3950 19123]]\n",
      "Confusion mat for label : e\n",
      "[[26763   251]\n",
      " [ 2206 20780]]\n",
      "Confusion mat for label : f\n",
      "[[26675   343]\n",
      " [ 3455 19527]]\n",
      "Confusion mat for label : g\n",
      "[[26507   307]\n",
      " [ 3454 19732]]\n",
      "Confusion mat for label : h\n",
      "[[26476   442]\n",
      " [ 3605 19477]]\n",
      "Confusion mat for label : i\n",
      "[[25446  1435]\n",
      " [ 4791 18328]]\n",
      "Confusion mat for label : j\n",
      "[[26584   332]\n",
      " [ 3500 19584]]\n",
      "Confusion mat for label : k\n",
      "[[26842   230]\n",
      " [ 2474 20454]]\n",
      "Confusion mat for label : l\n",
      "[[25584  1369]\n",
      " [ 5162 17885]]\n",
      "Confusion mat for label : m\n",
      "[[26738   326]\n",
      " [ 3102 19834]]\n",
      "Confusion mat for label : n\n",
      "[[26595   340]\n",
      " [ 3227 19838]]\n",
      "Confusion mat for label : o\n",
      "[[26090   680]\n",
      " [ 1783 21447]]\n",
      "Confusion mat for label : p\n",
      "[[26467   558]\n",
      " [ 3431 19544]]\n",
      "Confusion mat for label : q\n",
      "[[26474   266]\n",
      " [ 3934 19326]]\n",
      "Confusion mat for label : r\n",
      "[[26426   481]\n",
      " [ 3142 19951]]\n",
      "Confusion mat for label : s\n",
      "[[26580   143]\n",
      " [ 1853 21424]]\n",
      "Confusion mat for label : t\n",
      "[[25997   793]\n",
      " [ 3891 19319]]\n",
      "Confusion mat for label : u\n",
      "[[26672   319]\n",
      " [ 2749 20260]]\n",
      "Confusion mat for label : v\n",
      "[[26427   547]\n",
      " [ 3105 19921]]\n",
      "Confusion mat for label : w\n",
      "[[26653   316]\n",
      " [ 2297 20734]]\n",
      "Confusion mat for label : x\n",
      "[[26028   945]\n",
      " [ 2063 20964]]\n",
      "Confusion mat for label : y\n",
      "[[26526   444]\n",
      " [ 4440 18590]]\n",
      "Confusion mat for label : z\n",
      "[[26590   338]\n",
      " [ 2318 20754]]\n",
      "---------Report---------\n",
      "              precision    recall  f1-score   support\n",
      "\n",
      "           a       0.99      0.82      0.90     22957\n",
      "           b       0.98      0.85      0.91     23092\n",
      "           c       0.99      0.90      0.94     23161\n",
      "           d       0.98      0.83      0.90     23073\n",
      "           e       0.99      0.90      0.94     22986\n",
      "           f       0.98      0.85      0.91     22982\n",
      "           g       0.98      0.85      0.91     23186\n",
      "           h       0.98      0.84      0.91     23082\n",
      "           i       0.93      0.79      0.85     23119\n",
      "           j       0.98      0.85      0.91     23084\n",
      "           k       0.99      0.89      0.94     22928\n",
      "           l       0.93      0.78      0.85     23047\n",
      "           m       0.98      0.86      0.92     22936\n",
      "           n       0.98      0.86      0.92     23065\n",
      "           o       0.97      0.92      0.95     23230\n",
      "           p       0.97      0.85      0.91     22975\n",
      "           q       0.99      0.83      0.90     23260\n",
      "           r       0.98      0.86      0.92     23093\n",
      "           s       0.99      0.92      0.96     23277\n",
      "           t       0.96      0.83      0.89     23210\n",
      "           u       0.98      0.88      0.93     23009\n",
      "           v       0.97      0.87      0.92     23026\n",
      "           w       0.98      0.90      0.94     23031\n",
      "           x       0.96      0.91      0.93     23027\n",
      "           y       0.98      0.81      0.88     23030\n",
      "           z       0.98      0.90      0.94     23072\n",
      "\n",
      "   micro avg       0.98      0.86      0.91    599938\n",
      "   macro avg       0.98      0.86      0.91    599938\n",
      "weighted avg       0.98      0.86      0.91    599938\n",
      " samples avg       0.98      0.86      0.91    599938\n",
      "\n"
     ]
    }
   ],
   "source": [
    "get_clf_eval_multi(y, (pred >= 0.5) * 1, label)"
   ]
  },
  {
   "cell_type": "code",
   "execution_count": 42,
   "id": "a70d4bad",
   "metadata": {},
   "outputs": [
    {
     "name": "stdout",
     "output_type": "stream",
     "text": [
      "**************************************************\n",
      "Thresholds: 0.001\n",
      "정확도: 0.9226, 정밀도: 0.9803, 재현율: 0.8485, F1:0.9096\n",
      "**************************************************\n",
      "Thresholds: 0.005\n",
      "정확도: 0.9225, 정밀도: 0.9803, 재현율: 0.8482, F1:0.9095\n",
      "**************************************************\n",
      "Thresholds: 0.01\n",
      "정확도: 0.9225, 정밀도: 0.9804, 재현율: 0.8481, F1:0.9094\n",
      "**************************************************\n",
      "Thresholds: 0.05\n",
      "정확도: 0.9219, 정밀도: 0.9818, 재현율: 0.8455, F1:0.9086\n",
      "**************************************************\n",
      "Thresholds: 0.1\n",
      "정확도: 0.9209, 정밀도: 0.9830, 재현율: 0.8422, F1:0.9072\n",
      "**************************************************\n",
      "Thresholds: 0.15\n",
      "정확도: 0.9196, 정밀도: 0.9838, 재현율: 0.8387, F1:0.9055\n",
      "**************************************************\n",
      "Thresholds: 0.2\n",
      "정확도: 0.9186, 정밀도: 0.9849, 재현율: 0.8356, F1:0.9041\n"
     ]
    }
   ],
   "source": [
    "thresholds = [0.001, 0.005, 0.01, 0.05, 0.1, 0.15, 0.2]\n",
    "\n",
    "# A에 대한 thr 보기\n",
    "a = 0\n",
    "get_eval_threshold(y[:, a], pred[:, a].reshape(-1,1) , thresholds)"
   ]
  },
  {
   "cell_type": "code",
   "execution_count": 49,
   "id": "85b9ee03",
   "metadata": {
    "scrolled": true
   },
   "outputs": [
    {
     "data": {
      "image/png": "[encoded data removed]",
      "text/plain": [
       "<Figure size 576x432 with 1 Axes>"
      ]
     },
     "metadata": {
      "needs_background": "light"
     },
     "output_type": "display_data"
    }
   ],
   "source": [
    "# ROC Curve A label에 대한\n",
    "from sklearn.metrics import roc_curve\n",
    "fpr, tpr, thr = roc_curve(y[:,0], pred[:,0])\n",
    "\n",
    "plt.figure(figsize=(8,6))\n",
    "plot_roc_curve(fpr, tpr)\n",
    "plt.legend(['Model', 'Random'], loc=\"best\")\n",
    "plt.show()"
   ]
  },
  {
   "cell_type": "code",
   "execution_count": null,
   "id": "f3620e7b",
   "metadata": {},
   "outputs": [],
   "source": []
  }
 ],
 "metadata": {
  "kernelspec": {
   "display_name": "sh_torch",
   "language": "python",
   "name": "sh_torch"
  },
  "language_info": {
   "codemirror_mode": {
    "name": "ipython",
    "version": 3
   },
   "file_extension": ".py",
   "mimetype": "text/x-python",
   "name": "python",
   "nbconvert_exporter": "python",
   "pygments_lexer": "ipython3",
   "version": "3.8.13"
  }
 },
 "nbformat": 4,
 "nbformat_minor": 5
}
